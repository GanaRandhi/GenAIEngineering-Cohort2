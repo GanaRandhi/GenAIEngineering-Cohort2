{
 "cells": [
  {
   "cell_type": "code",
   "execution_count": 2,
   "id": "e40b2736",
   "metadata": {},
   "outputs": [
    {
     "name": "stdout",
     "output_type": "stream",
     "text": [
      "{'operation': 'add', 'a': '5', 'b': '3', 'result': 8.0}\n"
     ]
    }
   ],
   "source": [
    "import requests\n",
    "response = requests.get(\"https://genaiengineering-cohort2-qjwy.onrender.com//add\", params={\"a\": 5, \"b\": 3})\n",
    "print(response.json())"
   ]
  }
 ],
 "metadata": {
  "kernelspec": {
   "display_name": "myproject_env",
   "language": "python",
   "name": "python3"
  },
  "language_info": {
   "codemirror_mode": {
    "name": "ipython",
    "version": 3
   },
   "file_extension": ".py",
   "mimetype": "text/x-python",
   "name": "python",
   "nbconvert_exporter": "python",
   "pygments_lexer": "ipython3",
   "version": "3.11.9"
  }
 },
 "nbformat": 4,
 "nbformat_minor": 5
}
